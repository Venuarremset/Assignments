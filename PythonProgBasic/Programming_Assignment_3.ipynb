{
 "cells": [
  {
   "cell_type": "markdown",
   "metadata": {},
   "source": [
    "### 1. Write a Python Program to Check if a Number is Positive, Negative or Zero?\n",
    "\n",
    "\n",
    "\n"
   ]
  },
  {
   "cell_type": "code",
   "execution_count": 15,
   "metadata": {},
   "outputs": [
    {
     "name": "stdout",
     "output_type": "stream",
     "text": [
      "enter a number \t0\n",
      "zero\n"
     ]
    }
   ],
   "source": [
    "try:\n",
    "    num = float(input('enter a number \\t'))\n",
    "    \n",
    "except Exception as e:\n",
    "            print(e)\n",
    "            print('enter a valid input')\n",
    "else:\n",
    "    if (num > 0):\n",
    "        print('positive')\n",
    "    elif (num == 0):\n",
    "        print('zero')\n",
    "    else:\n",
    "        print('negative')"
   ]
  },
  {
   "cell_type": "markdown",
   "metadata": {},
   "source": [
    "### 2. Write a Python Program to Check if a Number is Odd or Even?\n",
    "\n"
   ]
  },
  {
   "cell_type": "code",
   "execution_count": 8,
   "metadata": {},
   "outputs": [
    {
     "name": "stdout",
     "output_type": "stream",
     "text": [
      "enter a positive integer12.5\n",
      "enter a valid input i.e a positive integer\n"
     ]
    }
   ],
   "source": [
    "try:\n",
    "    a = int(input('enter a positive integer'))\n",
    "except:\n",
    "    print('enter a valid input i.e a positive integer')\n",
    "else:\n",
    "    if (a%2 ==0):\n",
    "        print('even')\n",
    "    else:\n",
    "        print('odd')"
   ]
  },
  {
   "cell_type": "markdown",
   "metadata": {},
   "source": [
    "### 3. Write a Python Program to Check Leap Year?\n",
    "\n"
   ]
  },
  {
   "cell_type": "code",
   "execution_count": 14,
   "metadata": {},
   "outputs": [
    {
     "name": "stdout",
     "output_type": "stream",
     "text": [
      "enter an year1992\n",
      "1992 is a leap year\n"
     ]
    }
   ],
   "source": [
    "#If the year is evenly divisible by 4 and \n",
    "#If the year is evenly divisible by 100 and \n",
    "#If the year is evenly divisible by 400 \n",
    "#The year is a leap year\n",
    "\n",
    "year = int(input('enter an year'))\n",
    "if (year % 4) == 0:\n",
    "    if (year % 100) == 0:\n",
    "        if (year % 400) == 0:\n",
    "            print(\"{} is a leap year\".format(year))\n",
    "        else:\n",
    "            print(\"{} is not a leap year\".format(year))\n",
    "    else:\n",
    "        print(\"{} is a leap year\".format(year))\n",
    "else:\n",
    "    print(\"{} is not a leap year\".format(year))\n"
   ]
  },
  {
   "cell_type": "markdown",
   "metadata": {},
   "source": [
    "### 4. Write a Python Program to Check Prime Number?\n"
   ]
  },
  {
   "cell_type": "code",
   "execution_count": 35,
   "metadata": {},
   "outputs": [
    {
     "name": "stdout",
     "output_type": "stream",
     "text": [
      "enter a postive integer to check if it is prime number or not \n",
      "19\n",
      "It is a prime number\n"
     ]
    }
   ],
   "source": [
    "import math\n",
    "\n",
    "#using input function to take input from the user\n",
    "num = int(input('enter a postive integer to check if it is prime number or not \\n'))\n",
    "#set the flag as False initially\n",
    "flag = False\n",
    "#checking for valid input\n",
    "if (num <= 0):\n",
    "    print('enter a valid integer')\n",
    "if (type(num)== str):\n",
    "    print('enter a valid integer')\n",
    "#a prime number is greater than 1 (least is 2)\n",
    "if (num > 1):\n",
    "    for i in range(2, math.floor(math.sqrt(num))):\n",
    "        if (num % i ==0):\n",
    "            flag = True\n",
    "            break\n",
    "if flag:\n",
    "    print('Not a prime number')\n",
    "else:\n",
    "    print('It is a prime number')\n",
    "    \n",
    "\n",
    "    "
   ]
  },
  {
   "cell_type": "markdown",
   "metadata": {},
   "source": [
    "### 5. Write a Python Program to Print all Prime Numbers in an Interval of 1-10000?"
   ]
  },
  {
   "cell_type": "code",
   "execution_count": 30,
   "metadata": {},
   "outputs": [
    {
     "name": "stdout",
     "output_type": "stream",
     "text": [
      "It is a prime number\n",
      "It is a prime number\n",
      "It is a prime number\n",
      "It is a prime number\n",
      "It is a prime number\n",
      "It is a prime number\n",
      "It is a prime number\n",
      "It is a prime number\n"
     ]
    },
    {
     "data": {
      "text/plain": [
       "[2, 3, 4, 5, 6, 7, 8, 9]"
      ]
     },
     "execution_count": 30,
     "metadata": {},
     "output_type": "execute_result"
    }
   ],
   "source": [
    "import math\n",
    "def primes():\n",
    "#using input function to take input from the user\n",
    "    num = 55\n",
    "    lst = list(range(2, 10001))\n",
    "    result = []\n",
    "#set the flag as False initially\n",
    "    flag = False\n",
    "#checking for valid input\n",
    "    if (num <= 0):\n",
    "        print('enter a valid integer')\n",
    "    if (type(num)== str):\n",
    "        print('enter a valid integer')\n",
    "#a prime number is greater than 1 (least is 2)\n",
    "    for num in lst:\n",
    "        if (num > 1):\n",
    "            for i in range(2, math.floor(math.sqrt(num))):\n",
    "                if (num % i ==0):\n",
    "                    flag = True\n",
    "                    break\n",
    "        if flag:\n",
    "            pass\n",
    "        else:\n",
    "            print('It is a prime number')\n",
    "            result.append(num)\n",
    "    return result\n",
    "\n",
    "primes()"
   ]
  },
  {
   "cell_type": "code",
   "execution_count": null,
   "metadata": {},
   "outputs": [],
   "source": []
  },
  {
   "cell_type": "code",
   "execution_count": null,
   "metadata": {},
   "outputs": [],
   "source": []
  }
 ],
 "metadata": {
  "kernelspec": {
   "display_name": "Python 3",
   "language": "python",
   "name": "python3"
  },
  "language_info": {
   "codemirror_mode": {
    "name": "ipython",
    "version": 3
   },
   "file_extension": ".py",
   "mimetype": "text/x-python",
   "name": "python",
   "nbconvert_exporter": "python",
   "pygments_lexer": "ipython3",
   "version": "3.8.5"
  }
 },
 "nbformat": 4,
 "nbformat_minor": 4
}
